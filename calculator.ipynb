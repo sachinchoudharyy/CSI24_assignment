{
 "cells": [
  {
   "cell_type": "code",
   "execution_count": 14,
   "metadata": {},
   "outputs": [
    {
     "name": "stdout",
     "output_type": "stream",
     "text": [
      "8*4 =  32\n"
     ]
    }
   ],
   "source": [
    "class calculator:\n",
    "    def add(self ,num1, num2):\n",
    "       return num1 + num2\n",
    "    \n",
    "    def sub(self, num1, num2):\n",
    "       return num1 - num2\n",
    "    \n",
    "    def mul(self,num1, num2):\n",
    "      return num1 * num2\n",
    "    \n",
    "    def div(self,num1, num2):\n",
    "      return num1 / num2\n",
    "    \n",
    "c=calculator()\n",
    "\n",
    "i=int(input(\"enter first number\"))\n",
    "j=int(input(\"enter second number\"))\n",
    "p=int(input('''press 1 for addition\n",
    "               press 2 for subtraction\n",
    "               press 3 for multiply\n",
    "               press 4 for division'''))\n",
    "\n",
    "if p==1:\n",
    " print(f\"{i}+{j} = \",c.add(i,j))\n",
    "if p==2:\n",
    " print(f\"{i}-{j} = \" , c.sub(i,j))\n",
    "\n",
    "if p==3:\n",
    " print(f\"{i}*{j} = \" ,c.mul(i,j))\n",
    "\n",
    "if p==4:\n",
    " print(f\"{i}/{j} = \" ,c.div(i,j))"
   ]
  },
  {
   "cell_type": "code",
   "execution_count": null,
   "metadata": {},
   "outputs": [],
   "source": []
  }
 ],
 "metadata": {
  "kernelspec": {
   "display_name": "Python 3",
   "language": "python",
   "name": "python3"
  },
  "language_info": {
   "codemirror_mode": {
    "name": "ipython",
    "version": 3
   },
   "file_extension": ".py",
   "mimetype": "text/x-python",
   "name": "python",
   "nbconvert_exporter": "python",
   "pygments_lexer": "ipython3",
   "version": "3.11.4"
  }
 },
 "nbformat": 4,
 "nbformat_minor": 2
}
