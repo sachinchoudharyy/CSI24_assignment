{
 "cells": [
  {
   "cell_type": "code",
   "execution_count": 1,
   "metadata": {},
   "outputs": [
    {
     "data": {
      "text/html": [
       "<div>\n",
       "<style scoped>\n",
       "    .dataframe tbody tr th:only-of-type {\n",
       "        vertical-align: middle;\n",
       "    }\n",
       "\n",
       "    .dataframe tbody tr th {\n",
       "        vertical-align: top;\n",
       "    }\n",
       "\n",
       "    .dataframe thead th {\n",
       "        text-align: right;\n",
       "    }\n",
       "</style>\n",
       "<table border=\"1\" class=\"dataframe\">\n",
       "  <thead>\n",
       "    <tr style=\"text-align: right;\">\n",
       "      <th></th>\n",
       "      <th>Bedroom</th>\n",
       "      <th>Size</th>\n",
       "      <th>Price</th>\n",
       "    </tr>\n",
       "  </thead>\n",
       "  <tbody>\n",
       "    <tr>\n",
       "      <th>0</th>\n",
       "      <td>2</td>\n",
       "      <td>1500</td>\n",
       "      <td>300000</td>\n",
       "    </tr>\n",
       "    <tr>\n",
       "      <th>1</th>\n",
       "      <td>3</td>\n",
       "      <td>2000</td>\n",
       "      <td>400000</td>\n",
       "    </tr>\n",
       "    <tr>\n",
       "      <th>2</th>\n",
       "      <td>4</td>\n",
       "      <td>2500</td>\n",
       "      <td>500000</td>\n",
       "    </tr>\n",
       "    <tr>\n",
       "      <th>3</th>\n",
       "      <td>5</td>\n",
       "      <td>3000</td>\n",
       "      <td>600000</td>\n",
       "    </tr>\n",
       "    <tr>\n",
       "      <th>4</th>\n",
       "      <td>3</td>\n",
       "      <td>1800</td>\n",
       "      <td>350000</td>\n",
       "    </tr>\n",
       "    <tr>\n",
       "      <th>5</th>\n",
       "      <td>2</td>\n",
       "      <td>1600</td>\n",
       "      <td>320000</td>\n",
       "    </tr>\n",
       "    <tr>\n",
       "      <th>6</th>\n",
       "      <td>4</td>\n",
       "      <td>2700</td>\n",
       "      <td>550000</td>\n",
       "    </tr>\n",
       "    <tr>\n",
       "      <th>7</th>\n",
       "      <td>5</td>\n",
       "      <td>3100</td>\n",
       "      <td>650000</td>\n",
       "    </tr>\n",
       "    <tr>\n",
       "      <th>8</th>\n",
       "      <td>3</td>\n",
       "      <td>1900</td>\n",
       "      <td>370000</td>\n",
       "    </tr>\n",
       "    <tr>\n",
       "      <th>9</th>\n",
       "      <td>4</td>\n",
       "      <td>2300</td>\n",
       "      <td>520000</td>\n",
       "    </tr>\n",
       "  </tbody>\n",
       "</table>\n",
       "</div>"
      ],
      "text/plain": [
       "   Bedroom  Size   Price\n",
       "0        2  1500  300000\n",
       "1        3  2000  400000\n",
       "2        4  2500  500000\n",
       "3        5  3000  600000\n",
       "4        3  1800  350000\n",
       "5        2  1600  320000\n",
       "6        4  2700  550000\n",
       "7        5  3100  650000\n",
       "8        3  1900  370000\n",
       "9        4  2300  520000"
      ]
     },
     "execution_count": 1,
     "metadata": {},
     "output_type": "execute_result"
    }
   ],
   "source": [
    "from sklearn.model_selection import train_test_split\n",
    "from sklearn.linear_model import LinearRegression\n",
    "import pandas as pd\n",
    "data={'Bedroom':[2,3,4,5,3,2,4,5,3,4],\n",
    "      'Size':[1500,2000,2500,3000,1800,1600,2700,3100,1900,2300],\n",
    "      'Price':[300000,400000,500000,600000,350000,320000,550000,650000,370000,520000]}\n",
    "df=pd.DataFrame(data)\n",
    "df"
   ]
  },
  {
   "cell_type": "code",
   "execution_count": 2,
   "metadata": {},
   "outputs": [
    {
     "name": "stdout",
     "output_type": "stream",
     "text": [
      "original data     Price\n",
      "5  320000\n",
      "8  370000\n",
      "Predicted result [[307485.95505618]\n",
      " [388117.97752809]]\n"
     ]
    },
    {
     "data": {
      "text/plain": [
       "<function print(*args, sep=' ', end='\\n', file=None, flush=False)>"
      ]
     },
     "execution_count": 2,
     "metadata": {},
     "output_type": "execute_result"
    }
   ],
   "source": [
    "x=df[[\"Bedroom\",\"Size\"]]\n",
    "y=df[[\"Price\"]]\n",
    "x_train,x_test,y_train,y_test=train_test_split(x,y,train_size=0.8,random_state=12)\n",
    "lr=LinearRegression()\n",
    "lr.fit(x_train,y_train)\n",
    "result=lr.predict(x_test)\n",
    "print(f\"original data {y_test}\")\n",
    "print(f\"Predicted result {result}\")\n",
    "print"
   ]
  },
  {
   "cell_type": "code",
   "execution_count": 5,
   "metadata": {},
   "outputs": [
    {
     "name": "stdout",
     "output_type": "stream",
     "text": [
      "Accuracy is 85%\n"
     ]
    }
   ],
   "source": [
    "from sklearn.metrics import r2_score\n",
    "a= r2_score(result,y_test)\n",
    "print(f\"Accuracy is {round(a*100)}%\")"
   ]
  },
  {
   "cell_type": "markdown",
   "metadata": {},
   "source": [
    "Precision: Precision is a ration of correctly predicted positive observation to the total predicted positive observation.\n",
    "it tell us how manay of the predicted positive instance are actually positive.\n",
    "\n",
    "pecision = tp/tp+fp ( it will not give the accurate prediction.)\n",
    "\n",
    "Recall: Recall is a ration of correctly predicted positive observation to the all observation in the actuall class.\n",
    "it tell us how many of the actual positive instance are correctly captured bu the model.\n",
    "\n",
    "recall= tp/tp+fn (it will give the accrste prediction of the model)"
   ]
  },
  {
   "cell_type": "code",
   "execution_count": 12,
   "metadata": {},
   "outputs": [
    {
     "data": {
      "text/html": [
       "<div>\n",
       "<style scoped>\n",
       "    .dataframe tbody tr th:only-of-type {\n",
       "        vertical-align: middle;\n",
       "    }\n",
       "\n",
       "    .dataframe tbody tr th {\n",
       "        vertical-align: top;\n",
       "    }\n",
       "\n",
       "    .dataframe thead th {\n",
       "        text-align: right;\n",
       "    }\n",
       "</style>\n",
       "<table border=\"1\" class=\"dataframe\">\n",
       "  <thead>\n",
       "    <tr style=\"text-align: right;\">\n",
       "      <th></th>\n",
       "      <th>Bedroom</th>\n",
       "      <th>Size</th>\n",
       "      <th>Price</th>\n",
       "    </tr>\n",
       "  </thead>\n",
       "  <tbody>\n",
       "    <tr>\n",
       "      <th>0</th>\n",
       "      <td>2</td>\n",
       "      <td>1500</td>\n",
       "      <td>300000</td>\n",
       "    </tr>\n",
       "    <tr>\n",
       "      <th>1</th>\n",
       "      <td>3</td>\n",
       "      <td>2000</td>\n",
       "      <td>400000</td>\n",
       "    </tr>\n",
       "  </tbody>\n",
       "</table>\n",
       "</div>"
      ],
      "text/plain": [
       "   Bedroom  Size   Price\n",
       "0        2  1500  300000\n",
       "1        3  2000  400000"
      ]
     },
     "execution_count": 12,
     "metadata": {},
     "output_type": "execute_result"
    }
   ],
   "source": [
    "from sklearn.model_selection import train_test_split\n",
    "from sklearn.linear_model import LinearRegression, LogisticRegression\n",
    "from sklearn.metrics import precision_score , recall_score, f1_score\n",
    "import pandas as pd\n",
    "data={'Bedroom':[2,3,4,5,3,2,4,5,3,4],\n",
    "      'Size':[1500,2000,2500,3000,1800,1600,2700,3100,1900,2300],\n",
    "      'Price':[300000,400000,500000,600000,350000,320000,550000,650000,370000,520000]}\n",
    "df=pd.DataFrame(data)\n",
    "df.head(2)"
   ]
  },
  {
   "cell_type": "code",
   "execution_count": 13,
   "metadata": {},
   "outputs": [],
   "source": [
    "df[\"Above_450k\"]=df['Price'].apply(lambda x:1 if x> 450000 else 0)\n",
    "features=df[[\"Bedroom\",\"Size\"]]\n",
    "labels=df[[\"Above_450k\"]]"
   ]
  },
  {
   "cell_type": "code",
   "execution_count": 23,
   "metadata": {},
   "outputs": [
    {
     "name": "stdout",
     "output_type": "stream",
     "text": [
      "presion: [1. 1.]\n",
      "Recall: [1. 1.]\n",
      "F1: [1. 1.]\n"
     ]
    },
    {
     "name": "stderr",
     "output_type": "stream",
     "text": [
      "C:\\Users\\abhis\\AppData\\Roaming\\Python\\Python312\\site-packages\\sklearn\\utils\\validation.py:1300: DataConversionWarning: A column-vector y was passed when a 1d array was expected. Please change the shape of y to (n_samples, ), for example using ravel().\n",
      "  y = column_or_1d(y, warn=True)\n"
     ]
    }
   ],
   "source": [
    "x_train,x_test,y_train,y_test=train_test_split(features, labels,test_size=0.2, random_state=42)\n",
    "lr=LogisticRegression()\n",
    "lr.fit(x_train,y_train)\n",
    "y_pred=lr.predict(x_train)\n",
    "pr=precision_score(y_train,y_pred,pos_label=1,average=None)\n",
    "rc=recall_score(y_train,y_pred,pos_label=1,average=None)\n",
    "f1=f1_score(y_train,y_pred,pos_label=1,average=None)\n",
    "print(f\"presion: {pr}\")\n",
    "print(f\"Recall: {rc}\")\n",
    "print(f\"F1: {f1}\")\n",
    "\n"
   ]
  },
  {
   "cell_type": "code",
   "execution_count": 24,
   "metadata": {},
   "outputs": [
    {
     "name": "stdout",
     "output_type": "stream",
     "text": [
      "   Bedroom  Size\n",
      "5        2  1600\n",
      "0        2  1500\n",
      "7        5  3100\n",
      "2        4  2500\n",
      "9        4  2300\n",
      "4        3  1800\n",
      "3        5  3000\n",
      "6        4  2700\n",
      ",   Above_450k\n",
      "5           0\n",
      "0           0\n",
      "7           1\n",
      "2           1\n",
      "9           1\n",
      "4           0\n",
      "3           1\n",
      "6           1,\n",
      "[0 0 1 1 1 0 1 1]\n"
     ]
    }
   ],
   "source": [
    "print(f\"{x_train}\\n,{y_train},\\n{y_pred}\")"
   ]
  },
  {
   "cell_type": "markdown",
   "metadata": {},
   "source": [
    "Ensemble Techniques: it is a combination of mulltiple training techniques.\n",
    "techniques of Ensemble: \n",
    "Bagging: Random forest\n",
    "Boosting: XGBoost, Gradient, Adoboosting\n",
    "\n",
    "Bagging : in this same model data  train in a multiple parts . the data distribute into the small parts and train into the multiple parts of techniques.\n",
    "\n",
    "Boosting: in this boosting the full data set give to the 1 technique it will work on this the train data give to the next part tech2 to solve the any type of correction by in time at tech 1 the chain will be contionur.\n",
    " \n",
    "Use's of ensemble \n",
    "1 Improvement of an performance.\n",
    "2 Bias + varience is on sequence balance."
   ]
  },
  {
   "cell_type": "markdown",
   "metadata": {},
   "source": []
  },
  {
   "cell_type": "markdown",
   "metadata": {},
   "source": []
  }
 ],
 "metadata": {
  "kernelspec": {
   "display_name": "Python 3",
   "language": "python",
   "name": "python3"
  },
  "language_info": {
   "codemirror_mode": {
    "name": "ipython",
    "version": 3
   },
   "file_extension": ".py",
   "mimetype": "text/x-python",
   "name": "python",
   "nbconvert_exporter": "python",
   "pygments_lexer": "ipython3",
   "version": "3.12.2"
  }
 },
 "nbformat": 4,
 "nbformat_minor": 2
}
